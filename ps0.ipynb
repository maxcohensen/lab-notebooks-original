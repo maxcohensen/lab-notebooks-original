{
  "cells": [
    {
      "cell_type": "markdown",
      "metadata": {
        "id": "view-in-github",
        "colab_type": "text"
      },
      "source": [
        "<a href=\"https://colab.research.google.com/github/maxcohensen/lab-notebooks-original/blob/main/ps0.ipynb\" target=\"_parent\"><img src=\"https://colab.research.google.com/assets/colab-badge.svg\" alt=\"Open In Colab\"/></a>"
      ]
    },
    {
      "cell_type": "markdown",
      "metadata": {
        "id": "u0E5Spout_ER"
      },
      "source": [
        "# Problem Set 0\n",
        "#### CMSI 1010: Computer Programming and Lab"
      ]
    },
    {
      "cell_type": "markdown",
      "metadata": {
        "id": "ea7_Mc8Kt_EV"
      },
      "source": [
        "## Important Dates\n",
        "\n",
        " - Released: 2023-01-12 at 12:00 am [PT]\n",
        " - Deadline: 2023-01-24 at 11:59 pm [PT]"
      ]
    },
    {
      "cell_type": "markdown",
      "metadata": {
        "id": "lWoec-sit_EV"
      },
      "source": [
        "## Learning Objectives\n",
        "\n",
        "Students will practice (1) writing a program in a text editor, (2) using comments to document the program, (3) writing Python in the web using Glitch, and (4) using Python commands manipulate strings and variables. Students may collaborate by talking to each other or helping each other, but the final submission _must be individual_, and collaborators must be credited."
      ]
    },
    {
      "cell_type": "markdown",
      "metadata": {
        "id": "9RFv4WEEt_EW"
      },
      "source": [
        "# Question 1: Reading Notes\n",
        "* Chapter 1 in the _Think Python_ textbook: http://greenteapress.com/thinkpython2/thinkpython2.pdf\n",
        "* Dr. Ray Toal's CMSI notes:\n",
        "    * Computing: https://cs.lmu.edu/~ray/notes/computing/\n",
        "    * Computer Science: https://cs.lmu.edu/~ray/notes/computerscience/"
      ]
    },
    {
      "cell_type": "markdown",
      "metadata": {
        "id": "048rXiD-t_EW"
      },
      "source": [
        "Once you have studied the reading notes, write a summary in the text cell below."
      ]
    },
    {
      "cell_type": "markdown",
      "metadata": {
        "id": "LIBiVl1Ft_EX"
      },
      "source": [
        "***Think Python* Chapter 1**\n",
        "\n",
        "Chapter 1 of *Think Python* concerns itself with explaining the pure basics of programming before segueing into Python specifically.\n",
        "\n",
        "It talks about the different operators, values & types, formal vs natural languages, and debugging. With this, a plethora of new terms are introduced:\n",
        "\n",
        "**KEY TERMS**\n",
        "\n",
        "input: Get data from the keyboard, a file, the network, or some other device.\n",
        "\n",
        "output: Display data on the screen, save it in a file, send it over the network, etc.\n",
        "\n",
        "math: Perform basic mathematical operations like addition and multiplication.\n",
        "\n",
        "conditional execution: Check for certain conditions and run the appropriate code.\n",
        "\n",
        "repetition: Perform some action repeatedly, usually with some variation.\n",
        "\n",
        "problem solving: The process of formulating a problem, finding a solution, and expressing it.\n",
        "\n",
        "high-level language: A programming language like Python that is designed to be easy for\n",
        "humans to read and write.\n",
        "\n",
        "low-level language: A programming language that is designed to be easy for a computer\n",
        "to run; also called “machine language” or “assembly language”.\n",
        "\n",
        "portability: A property of a program that can run on more than one kind of computer.\n",
        "\n",
        "interpreter: A program that reads another program and executes it\n",
        "\n",
        "prompt: Characters displayed by the interpreter to indicate that it is ready to take input\n",
        "from the user.\n",
        "\n",
        "program: A set of instructions that specifies a computation.\n",
        "\n",
        "print statement: An instruction that causes the Python interpreter to display a value on\n",
        "the screen.\n",
        "\n",
        "operator: A special symbol that represents a simple computation like addition, multiplication, or string concatenation.\n",
        "\n",
        "value: One of the basic units of data, like a number or string, that a program manipulates.\n",
        "\n",
        "type: A category of values. The types we have seen so far are integers (type int), floatingpoint numbers (type float), and strings (type str).\n",
        "\n",
        "integer: A type that represents whole numbers.\n",
        "\n",
        "floating-point: A type that represents numbers with fractional parts.\n",
        "\n",
        "string: A type that represents sequences of characters.\n",
        "\n",
        "natural language: Any one of the languages that people speak that evolved naturally.\n",
        "\n",
        "formal language: Any one of the languages that people have designed for specific purposes, such as representing mathematical ideas or computer programs; all programming languages are formal languages.\n",
        "\n",
        "token: One of the basic elements of the syntactic structure of a program, analogous to a\n",
        "word in a natural language.\n",
        "\n",
        "syntax: The rules that govern the structure of a program.\n",
        "\n",
        "parse: To examine a program and analyze the syntactic structure.\n",
        "\n",
        "bug: An error in a program.\n",
        "\n",
        "debugging: The process of finding and correcting bugs.\n",
        "\n",
        "**Dr. Ray Toal's CMSI notes**\n",
        "\n",
        "The first article concerns itself with computing. Here I learnt that computing is much broader than I initially had considered, with applications in fields I never would've considered.\n",
        "\n",
        "This article also differentiated between the different disciplines within computing, highlighting the differences between computer science vs computer engineering for example.\n",
        "\n",
        "Later, the article highlights careers involving computing, which is a broad and impressive list.\n",
        "\n",
        "Overall, the article serves as a great resource for information encompassing the sphere as a whole, and with that serves a great purpose in clearing up misconceptions and highlighting the benefits of the science.\n",
        "\n",
        "The second article zeroes in on computer science specifically, with a deepdive into exactly a computer scientist does & the disciplines the subject draws upon.\n",
        "\n",
        "It also touches upon the limitations (or the question of limitations) of the discipline, and what that means for a computer scientist.\n",
        "\n",
        "Similar to the last article, this article also talks about the many job opportunities that come with a degree with a computer science degree."
      ]
    },
    {
      "cell_type": "markdown",
      "metadata": {
        "id": "cReNPUb3t_EX"
      },
      "source": [
        "# Question 2"
      ]
    },
    {
      "cell_type": "markdown",
      "metadata": {
        "id": "JQnaRCq4t_EX"
      },
      "source": [
        "### Part A\n",
        "In this question, you will write code that prints “Hello, `<your name>`!!!” like below. \n",
        "\n",
        "    ***************************************\n",
        "    *                                     *\n",
        "    *        Hello, Harry Potter!!!       *\n",
        "    *                                     *\n",
        "    ***************************************\n",
        "\n",
        "**Hint:** _You will need to use more than one `print` command._ You should put each command on a new line."
      ]
    },
    {
      "cell_type": "code",
      "execution_count": null,
      "metadata": {
        "id": "tWeQr_Egt_EY",
        "colab": {
          "base_uri": "https://localhost:8080/"
        },
        "outputId": "f9311574-b4c8-458b-e5db-33083b0c0090"
      },
      "outputs": [
        {
          "output_type": "stream",
          "name": "stdout",
          "text": [
            "***************************************\n",
            "*                                     *\n",
            "*         Hello, Max Cohen!!!         *\n",
            "*                                     *\n",
            "***************************************\n"
          ]
        }
      ],
      "source": [
        "print(\"***************************************\")\n",
        "print(\"*                                     *\")\n",
        "print(\"*         Hello, Max Cohen!!!         *\")\n",
        "print(\"*                                     *\")\n",
        "print(\"***************************************\")"
      ]
    },
    {
      "cell_type": "markdown",
      "metadata": {
        "id": "yYtURDbOt_EZ"
      },
      "source": [
        "### Part B\n",
        "\n",
        "#### Adding comments\n",
        "At the beginning, your programs will be small and easy to understand. Over time, they’ll get bigger and more complicated. You may want to explain your code to someone else (like to those who are grading it 😊) or understand it yourself at a later date. Instead of having to understand what every line of code does, you can add comments to your code that explain what you were trying to do.\n",
        "\n",
        "You can add a one-line comment using the `#` sign.\n",
        "\n",
        "```python\n",
        "# Print a message to the screen\n",
        "print('hello, lmu!')\n",
        "```\n",
        "\n",
        "Comments are ignored by the computer—you can write anything you want there. Best practice, and what I would like you to do in this class, is to _always document your code_!\n",
        "\n",
        "> There is a nuance to this that will emerge as you get more advanced; but for now, the idea is to remove the friction between you and the act of explaining your intent."
      ]
    },
    {
      "cell_type": "markdown",
      "metadata": {
        "id": "hdi1qKZYt_Ea"
      },
      "source": [
        "Now, in the block of code below, add a _multi-line comment_ with your name, any collaborators, and a description of what it does. You should include a comment like that at the beginning of all future programs."
      ]
    },
    {
      "cell_type": "code",
      "execution_count": null,
      "metadata": {
        "id": "L96IRqpWt_Ea"
      },
      "outputs": [],
      "source": [
        "# Author: Max Christiansen Cohen\n",
        "# Date: January 17th, 2022\n",
        "# Collaborators: N/A\n",
        "# This code is meant to highlight I know how to use comments"
      ]
    },
    {
      "cell_type": "markdown",
      "metadata": {
        "id": "lM37yHZct_Ef"
      },
      "source": [
        "# Question 3"
      ]
    },
    {
      "cell_type": "markdown",
      "metadata": {
        "id": "dnblSrQTt_Ef"
      },
      "source": [
        "### Spiffing up our UFO\n",
        "We will do a code-along to animate a flying UFO in the browser! You can find the code from class here: https://glitch.com/edit/#!/cmsi1010-ufo-python. Your goal is to build on the UFO code (e.g., shine a triangular beam of light, or land a plane). Be creative!\n",
        "\n",
        "1. **First, create your own project on Glitch:** https://glitch.com/\n",
        "You should create a new account. Then select _New Project_ at the top right, using the _hello-webpage_ option. Rename the project by clicking the upper-left corner and typing `MY-NAME-UFO`.\n",
        "2. Copy and paste `index.html` from the starter project to your `index.html`. Then create a new file called `ufo.py`. Copy and paste the code from class to your file. \n",
        "3. To run the code, click _Preview_ in the bottom right and select the option _Open preview pane_. You can see your code running as you type! Make sure you can see the flying UFO before you start modifying the code."
      ]
    },
    {
      "cell_type": "markdown",
      "metadata": {
        "id": "TG0vdZ2Rt_Ef"
      },
      "source": [
        "### paste your glitch link here: "
      ]
    },
    {
      "cell_type": "markdown",
      "source": [
        "https://glitch.com/edit/#!/max-cohen-ufo"
      ],
      "metadata": {
        "id": "TMpYefB_CPyj"
      }
    }
  ],
  "metadata": {
    "kernelspec": {
      "display_name": "Python 3",
      "language": "python",
      "name": "python3"
    },
    "language_info": {
      "codemirror_mode": {
        "name": "ipython",
        "version": 3
      },
      "file_extension": ".py",
      "mimetype": "text/x-python",
      "name": "python",
      "nbconvert_exporter": "python",
      "pygments_lexer": "ipython3",
      "version": "3.8.5"
    },
    "colab": {
      "provenance": [],
      "toc_visible": true,
      "include_colab_link": true
    }
  },
  "nbformat": 4,
  "nbformat_minor": 0
}